{
 "cells": [
  {
   "cell_type": "markdown",
   "metadata": {},
   "source": [
    "# COMP2200/COMP6200 Prac 1\n",
    "\n",
    "_Authors: Greg Baker (greg.baker@mq.edu.au)_\n",
    "\n",
    "---\n",
    "\n",
    "The City of Baltimore publishes data about all of its employees, including their salaries. And these annual salaries can differ from their gross pay: Perhaps an employee works nightshift/overtime and earns more than their official salary; perhaps they are only employed for a part of the year and earn less.\n",
    "\n",
    "In this lab, we'll estimate what a typical city employee's gross pay will be based on their annual salary.\n",
    "\n",
    "Remember that to use a notebook, you need to run each cell. If left side of a cell says `[ ]`, it hasn't been run. If the left side\n",
    "says something like `[25]` then it has been. Shift-Enter runs a cell;  if you look around the user interface, various other menu items can run several cells in sequence."
   ]
  },
  {
   "cell_type": "markdown",
   "metadata": {},
   "source": [
    "**Note**\n",
    "\n",
    "This prac will cover a very complete data science lifecycle. Unfortunately, this requires some skills that we don't know yet. So there are some blocks of code that do things which we haven't explained yet. That's OK. We'll get there.\n",
    "\n",
    "Here are the steps we'll do:\n",
    "\n",
    "- Data Acquisition -- there will be a little of coding for you here\n",
    "\n",
    "- Data Cleaning and Preparation\n",
    "\n",
    "- Training -- there will be a little bit here for you to do as well\n",
    "\n",
    "- Validation -- lots to do here\n",
    "\n",
    "- Evaluation -- lots to do here"
   ]
  },
  {
   "cell_type": "markdown",
   "metadata": {},
   "source": [
    "# Data Acquisition\n",
    "\n",
    "Don't worry too much about the following blocks of code. Over the next few weeks you'll get more comfortable with this, and you'll\n",
    "see that a lot of data science programming work is simple and easy-to-repeat.\n",
    "\n",
    "First up, let's load the libraries we need:"
   ]
  },
  {
   "cell_type": "code",
   "execution_count": 34,
   "metadata": {},
   "outputs": [],
   "source": [
    "%matplotlib inline\n",
    "import pandas as pd\n",
    "import seaborn as sns\n",
    "import numpy as np\n",
    "import matplotlib.pyplot as plt\n",
    "import datetime as dt\n",
    "import sklearn.linear_model\n",
    "import sklearn.model_selection\n",
    "import sklearn.metrics"
   ]
  },
  {
   "cell_type": "markdown",
   "metadata": {},
   "source": [
    "The Baltimore salaries data set is available in `Baltimore_City_Employee_Salaries_2011.csv`. This is a file and needs to be in the same directory as this notebook. Column 0 is the name of the employee and we'll use it as an index. Column 4 is a date. (Note that we count columns starting with \"0\").\n",
    "\n",
    "The pandas `read_csv` function reads it into a dataframe called `salaries`"
   ]
  },
  {
   "cell_type": "code",
   "execution_count": 48,
   "metadata": {},
   "outputs": [
    {
     "data": {
      "text/html": [
       "<div>\n",
       "<style scoped>\n",
       "    .dataframe tbody tr th:only-of-type {\n",
       "        vertical-align: middle;\n",
       "    }\n",
       "\n",
       "    .dataframe tbody tr th {\n",
       "        vertical-align: top;\n",
       "    }\n",
       "\n",
       "    .dataframe thead th {\n",
       "        text-align: right;\n",
       "    }\n",
       "</style>\n",
       "<table border=\"1\" class=\"dataframe\">\n",
       "  <thead>\n",
       "    <tr style=\"text-align: right;\">\n",
       "      <th></th>\n",
       "      <th>JobTitle</th>\n",
       "      <th>AgencyID</th>\n",
       "      <th>Agency</th>\n",
       "      <th>HireDate</th>\n",
       "      <th>AnnualSalary</th>\n",
       "      <th>GrossPay</th>\n",
       "    </tr>\n",
       "    <tr>\n",
       "      <th>Name</th>\n",
       "      <th></th>\n",
       "      <th></th>\n",
       "      <th></th>\n",
       "      <th></th>\n",
       "      <th></th>\n",
       "      <th></th>\n",
       "    </tr>\n",
       "  </thead>\n",
       "  <tbody>\n",
       "    <tr>\n",
       "      <th>Aaron,Patricia G</th>\n",
       "      <td>Facilities/Office Services II</td>\n",
       "      <td>A03031</td>\n",
       "      <td>OED-Employment Dev</td>\n",
       "      <td>1979-10-24</td>\n",
       "      <td>$50845.00</td>\n",
       "      <td>$45505.94</td>\n",
       "    </tr>\n",
       "    <tr>\n",
       "      <th>Aaron,Petra L</th>\n",
       "      <td>ASSISTANT STATE'S ATTORNEY</td>\n",
       "      <td>A29005</td>\n",
       "      <td>States Attorneys Office</td>\n",
       "      <td>2006-09-25</td>\n",
       "      <td>$56595.00</td>\n",
       "      <td>$51588.89</td>\n",
       "    </tr>\n",
       "    <tr>\n",
       "      <th>Abaineh,Yohannes T</th>\n",
       "      <td>EPIDEMIOLOGIST</td>\n",
       "      <td>A65026</td>\n",
       "      <td>HLTH-Health Department</td>\n",
       "      <td>2009-07-23</td>\n",
       "      <td>$56500.00</td>\n",
       "      <td>$50633.26</td>\n",
       "    </tr>\n",
       "    <tr>\n",
       "      <th>Abdal-Rahim,Naim A</th>\n",
       "      <td>EMT Firefighter</td>\n",
       "      <td>A64063</td>\n",
       "      <td>Fire Academy Recruits</td>\n",
       "      <td>2011-03-30</td>\n",
       "      <td>$33476.00</td>\n",
       "      <td>$3888.95</td>\n",
       "    </tr>\n",
       "    <tr>\n",
       "      <th>Abdi,Ezekiel W</th>\n",
       "      <td>POLICE OFFICER</td>\n",
       "      <td>A99398</td>\n",
       "      <td>Police Department</td>\n",
       "      <td>2007-06-14</td>\n",
       "      <td>$50919.00</td>\n",
       "      <td>$51421.73</td>\n",
       "    </tr>\n",
       "  </tbody>\n",
       "</table>\n",
       "</div>"
      ],
      "text/plain": [
       "                                         JobTitle AgencyID  \\\n",
       "Name                                                         \n",
       "Aaron,Patricia G    Facilities/Office Services II   A03031   \n",
       "Aaron,Petra L          ASSISTANT STATE'S ATTORNEY   A29005   \n",
       "Abaineh,Yohannes T                 EPIDEMIOLOGIST   A65026   \n",
       "Abdal-Rahim,Naim A                EMT Firefighter   A64063   \n",
       "Abdi,Ezekiel W                     POLICE OFFICER   A99398   \n",
       "\n",
       "                                     Agency   HireDate AnnualSalary   GrossPay  \n",
       "Name                                                                            \n",
       "Aaron,Patricia G         OED-Employment Dev 1979-10-24    $50845.00  $45505.94  \n",
       "Aaron,Petra L       States Attorneys Office 2006-09-25    $56595.00  $51588.89  \n",
       "Abaineh,Yohannes T   HLTH-Health Department 2009-07-23    $56500.00  $50633.26  \n",
       "Abdal-Rahim,Naim A    Fire Academy Recruits 2011-03-30    $33476.00   $3888.95  \n",
       "Abdi,Ezekiel W            Police Department 2007-06-14    $50919.00  $51421.73  "
      ]
     },
     "execution_count": 48,
     "metadata": {},
     "output_type": "execute_result"
    }
   ],
   "source": [
    "salaries = pd.read_csv('Baltimore_City_Employee_Salaries_2011.csv', \n",
    "                       index_col=0,\n",
    "                      parse_dates=[4])\n",
    "salaries.head()"
   ]
  },
  {
   "cell_type": "markdown",
   "metadata": {},
   "source": [
    "## Your Turn....\n",
    "\n",
    "Last week you learned about the `.tail()` method to see the last few rows in a database. Use that now to look at\n",
    "the end of the `salaries` dataframe."
   ]
  },
  {
   "cell_type": "code",
   "execution_count": 49,
   "metadata": {},
   "outputs": [
    {
     "data": {
      "text/html": [
       "<div>\n",
       "<style scoped>\n",
       "    .dataframe tbody tr th:only-of-type {\n",
       "        vertical-align: middle;\n",
       "    }\n",
       "\n",
       "    .dataframe tbody tr th {\n",
       "        vertical-align: top;\n",
       "    }\n",
       "\n",
       "    .dataframe thead th {\n",
       "        text-align: right;\n",
       "    }\n",
       "</style>\n",
       "<table border=\"1\" class=\"dataframe\">\n",
       "  <thead>\n",
       "    <tr style=\"text-align: right;\">\n",
       "      <th></th>\n",
       "      <th>JobTitle</th>\n",
       "      <th>AgencyID</th>\n",
       "      <th>Agency</th>\n",
       "      <th>HireDate</th>\n",
       "      <th>AnnualSalary</th>\n",
       "      <th>GrossPay</th>\n",
       "    </tr>\n",
       "    <tr>\n",
       "      <th>Name</th>\n",
       "      <th></th>\n",
       "      <th></th>\n",
       "      <th></th>\n",
       "      <th></th>\n",
       "      <th></th>\n",
       "      <th></th>\n",
       "    </tr>\n",
       "  </thead>\n",
       "  <tbody>\n",
       "    <tr>\n",
       "      <th>Johnson,Eric</th>\n",
       "      <td>LABORER</td>\n",
       "      <td>B49308</td>\n",
       "      <td>TRANS-Highways</td>\n",
       "      <td>2000-01-10</td>\n",
       "      <td>$28891.00</td>\n",
       "      <td>$25998.60</td>\n",
       "    </tr>\n",
       "    <tr>\n",
       "      <th>Mulligan,Patricia A</th>\n",
       "      <td>HUMAN RESOURCES SPECIALIST III</td>\n",
       "      <td>A83004</td>\n",
       "      <td>HR-Human Resources</td>\n",
       "      <td>1982-04-05</td>\n",
       "      <td>$72400.00</td>\n",
       "      <td>$65161.02</td>\n",
       "    </tr>\n",
       "    <tr>\n",
       "      <th>Fullwood Jackson,April C</th>\n",
       "      <td>POLICE SERGEANT</td>\n",
       "      <td>A99164</td>\n",
       "      <td>Police Department</td>\n",
       "      <td>1991-04-02</td>\n",
       "      <td>$76172.00</td>\n",
       "      <td>$74150.74</td>\n",
       "    </tr>\n",
       "    <tr>\n",
       "      <th>Jones,George M</th>\n",
       "      <td>POLICE OFFICER</td>\n",
       "      <td>A99337</td>\n",
       "      <td>Police Department</td>\n",
       "      <td>1981-08-21</td>\n",
       "      <td>$68523.00</td>\n",
       "      <td>$71097.32</td>\n",
       "    </tr>\n",
       "    <tr>\n",
       "      <th>Dailey,Eugene</th>\n",
       "      <td>TRANSPORTATION ASSOC II</td>\n",
       "      <td>A49102</td>\n",
       "      <td>TRANS-Highways</td>\n",
       "      <td>1975-09-15</td>\n",
       "      <td>$55497.00</td>\n",
       "      <td>$86511.58</td>\n",
       "    </tr>\n",
       "  </tbody>\n",
       "</table>\n",
       "</div>"
      ],
      "text/plain": [
       "                                                JobTitle AgencyID  \\\n",
       "Name                                                                \n",
       "Johnson,Eric                                     LABORER   B49308   \n",
       "Mulligan,Patricia A       HUMAN RESOURCES SPECIALIST III   A83004   \n",
       "Fullwood Jackson,April C                 POLICE SERGEANT   A99164   \n",
       "Jones,George M                            POLICE OFFICER   A99337   \n",
       "Dailey,Eugene                    TRANSPORTATION ASSOC II   A49102   \n",
       "\n",
       "                                      Agency   HireDate AnnualSalary  \\\n",
       "Name                                                                   \n",
       "Johnson,Eric                  TRANS-Highways 2000-01-10    $28891.00   \n",
       "Mulligan,Patricia A       HR-Human Resources 1982-04-05    $72400.00   \n",
       "Fullwood Jackson,April C   Police Department 1991-04-02    $76172.00   \n",
       "Jones,George M             Police Department 1981-08-21    $68523.00   \n",
       "Dailey,Eugene                 TRANS-Highways 1975-09-15    $55497.00   \n",
       "\n",
       "                           GrossPay  \n",
       "Name                                 \n",
       "Johnson,Eric              $25998.60  \n",
       "Mulligan,Patricia A       $65161.02  \n",
       "Fullwood Jackson,April C  $74150.74  \n",
       "Jones,George M            $71097.32  \n",
       "Dailey,Eugene             $86511.58  "
      ]
     },
     "execution_count": 49,
     "metadata": {},
     "output_type": "execute_result"
    }
   ],
   "source": [
    "salaries.sample(5)\n"
   ]
  },
  {
   "cell_type": "markdown",
   "metadata": {},
   "source": [
    "You can also use `.sample(5)` to get 5 random rows from the `salaries` dataframe."
   ]
  },
  {
   "cell_type": "code",
   "execution_count": 50,
   "metadata": {},
   "outputs": [
    {
     "data": {
      "text/html": [
       "<div>\n",
       "<style scoped>\n",
       "    .dataframe tbody tr th:only-of-type {\n",
       "        vertical-align: middle;\n",
       "    }\n",
       "\n",
       "    .dataframe tbody tr th {\n",
       "        vertical-align: top;\n",
       "    }\n",
       "\n",
       "    .dataframe thead th {\n",
       "        text-align: right;\n",
       "    }\n",
       "</style>\n",
       "<table border=\"1\" class=\"dataframe\">\n",
       "  <thead>\n",
       "    <tr style=\"text-align: right;\">\n",
       "      <th></th>\n",
       "      <th>JobTitle</th>\n",
       "      <th>AgencyID</th>\n",
       "      <th>Agency</th>\n",
       "      <th>HireDate</th>\n",
       "      <th>AnnualSalary</th>\n",
       "      <th>GrossPay</th>\n",
       "    </tr>\n",
       "    <tr>\n",
       "      <th>Name</th>\n",
       "      <th></th>\n",
       "      <th></th>\n",
       "      <th></th>\n",
       "      <th></th>\n",
       "      <th></th>\n",
       "      <th></th>\n",
       "    </tr>\n",
       "  </thead>\n",
       "  <tbody>\n",
       "    <tr>\n",
       "      <th>Johnson,Kenneth W</th>\n",
       "      <td>LABORER</td>\n",
       "      <td>B70356</td>\n",
       "      <td>DPW-Solid Waste</td>\n",
       "      <td>2000-12-26</td>\n",
       "      <td>$28891.00</td>\n",
       "      <td>$27139.33</td>\n",
       "    </tr>\n",
       "    <tr>\n",
       "      <th>Raheem,Shelia S</th>\n",
       "      <td>POLICE OFFICER</td>\n",
       "      <td>A99124</td>\n",
       "      <td>Police Department</td>\n",
       "      <td>2005-10-13</td>\n",
       "      <td>$43034.00</td>\n",
       "      <td>$43962.97</td>\n",
       "    </tr>\n",
       "    <tr>\n",
       "      <th>Winder,Noelle</th>\n",
       "      <td>ASSISTANT STATE'S ATTORNEY</td>\n",
       "      <td>A29010</td>\n",
       "      <td>States Attorneys Office</td>\n",
       "      <td>2006-11-06</td>\n",
       "      <td>$54900.00</td>\n",
       "      <td>$49199.10</td>\n",
       "    </tr>\n",
       "    <tr>\n",
       "      <th>Feaster,James E</th>\n",
       "      <td>MOTOR VEHICLE DRIVER I</td>\n",
       "      <td>A49335</td>\n",
       "      <td>TRANS-Highways</td>\n",
       "      <td>2006-05-08</td>\n",
       "      <td>$30139.00</td>\n",
       "      <td>$42017.26</td>\n",
       "    </tr>\n",
       "    <tr>\n",
       "      <th>Pevie,Tia</th>\n",
       "      <td>SCHOOL HEALTH AIDE (10 MONTHS)</td>\n",
       "      <td>A65099</td>\n",
       "      <td>HLTH-Health Department</td>\n",
       "      <td>2006-07-01</td>\n",
       "      <td>$23395.00</td>\n",
       "      <td>$20112.02</td>\n",
       "    </tr>\n",
       "  </tbody>\n",
       "</table>\n",
       "</div>"
      ],
      "text/plain": [
       "                                         JobTitle AgencyID  \\\n",
       "Name                                                         \n",
       "Johnson,Kenneth W                         LABORER   B70356   \n",
       "Raheem,Shelia S                    POLICE OFFICER   A99124   \n",
       "Winder,Noelle          ASSISTANT STATE'S ATTORNEY   A29010   \n",
       "Feaster,James E            MOTOR VEHICLE DRIVER I   A49335   \n",
       "Pevie,Tia          SCHOOL HEALTH AIDE (10 MONTHS)   A65099   \n",
       "\n",
       "                                    Agency   HireDate AnnualSalary   GrossPay  \n",
       "Name                                                                           \n",
       "Johnson,Kenneth W          DPW-Solid Waste 2000-12-26    $28891.00  $27139.33  \n",
       "Raheem,Shelia S          Police Department 2005-10-13    $43034.00  $43962.97  \n",
       "Winder,Noelle      States Attorneys Office 2006-11-06    $54900.00  $49199.10  \n",
       "Feaster,James E             TRANS-Highways 2006-05-08    $30139.00  $42017.26  \n",
       "Pevie,Tia           HLTH-Health Department 2006-07-01    $23395.00  $20112.02  "
      ]
     },
     "execution_count": 50,
     "metadata": {},
     "output_type": "execute_result"
    }
   ],
   "source": [
    "salaries.sample(5)\n"
   ]
  },
  {
   "cell_type": "code",
   "execution_count": 51,
   "metadata": {},
   "outputs": [
    {
     "data": {
      "text/html": [
       "<div>\n",
       "<style scoped>\n",
       "    .dataframe tbody tr th:only-of-type {\n",
       "        vertical-align: middle;\n",
       "    }\n",
       "\n",
       "    .dataframe tbody tr th {\n",
       "        vertical-align: top;\n",
       "    }\n",
       "\n",
       "    .dataframe thead th {\n",
       "        text-align: right;\n",
       "    }\n",
       "</style>\n",
       "<table border=\"1\" class=\"dataframe\">\n",
       "  <thead>\n",
       "    <tr style=\"text-align: right;\">\n",
       "      <th></th>\n",
       "      <th>JobTitle</th>\n",
       "      <th>AgencyID</th>\n",
       "      <th>Agency</th>\n",
       "      <th>HireDate</th>\n",
       "      <th>AnnualSalary</th>\n",
       "      <th>GrossPay</th>\n",
       "    </tr>\n",
       "    <tr>\n",
       "      <th>Name</th>\n",
       "      <th></th>\n",
       "      <th></th>\n",
       "      <th></th>\n",
       "      <th></th>\n",
       "      <th></th>\n",
       "      <th></th>\n",
       "    </tr>\n",
       "  </thead>\n",
       "  <tbody>\n",
       "    <tr>\n",
       "      <th>Lewis,Awanda S</th>\n",
       "      <td>SCHOOL HEALTH AIDE (10 MONTHS)</td>\n",
       "      <td>A65104</td>\n",
       "      <td>HLTH-Health Department</td>\n",
       "      <td>2006-07-01</td>\n",
       "      <td>$23395.00</td>\n",
       "      <td>$21746.79</td>\n",
       "    </tr>\n",
       "    <tr>\n",
       "      <th>Lewis,Bernard T</th>\n",
       "      <td>FIRE PUMP OPERATOR</td>\n",
       "      <td>A64120</td>\n",
       "      <td>Fire Department</td>\n",
       "      <td>1990-03-26</td>\n",
       "      <td>$61653.00</td>\n",
       "      <td>$59866.23</td>\n",
       "    </tr>\n",
       "    <tr>\n",
       "      <th>Lewis,Brian C</th>\n",
       "      <td>POLICE OFFICER</td>\n",
       "      <td>A99322</td>\n",
       "      <td>Police Department</td>\n",
       "      <td>1998-04-20</td>\n",
       "      <td>$61672.00</td>\n",
       "      <td>$84219.58</td>\n",
       "    </tr>\n",
       "    <tr>\n",
       "      <th>Lewis,Capri T</th>\n",
       "      <td>JTPA TRAINEE MOMR</td>\n",
       "      <td>W03T19</td>\n",
       "      <td>Youth Cust</td>\n",
       "      <td>2009-06-11</td>\n",
       "      <td>$15080.00</td>\n",
       "      <td>$1881.38</td>\n",
       "    </tr>\n",
       "    <tr>\n",
       "      <th>Lewis,Carlos E</th>\n",
       "      <td>CARPENTER II</td>\n",
       "      <td>A50212</td>\n",
       "      <td>DPW-Water &amp; Waste Water</td>\n",
       "      <td>1993-08-02</td>\n",
       "      <td>$34643.00</td>\n",
       "      <td>$29709.64</td>\n",
       "    </tr>\n",
       "  </tbody>\n",
       "</table>\n",
       "</div>"
      ],
      "text/plain": [
       "                                       JobTitle AgencyID  \\\n",
       "Name                                                       \n",
       "Lewis,Awanda S   SCHOOL HEALTH AIDE (10 MONTHS)   A65104   \n",
       "Lewis,Bernard T              FIRE PUMP OPERATOR   A64120   \n",
       "Lewis,Brian C                    POLICE OFFICER   A99322   \n",
       "Lewis,Capri T                 JTPA TRAINEE MOMR   W03T19   \n",
       "Lewis,Carlos E                     CARPENTER II   A50212   \n",
       "\n",
       "                                  Agency   HireDate AnnualSalary   GrossPay  \n",
       "Name                                                                         \n",
       "Lewis,Awanda S    HLTH-Health Department 2006-07-01    $23395.00  $21746.79  \n",
       "Lewis,Bernard T          Fire Department 1990-03-26    $61653.00  $59866.23  \n",
       "Lewis,Brian C          Police Department 1998-04-20    $61672.00  $84219.58  \n",
       "Lewis,Capri T                 Youth Cust 2009-06-11    $15080.00   $1881.38  \n",
       "Lewis,Carlos E   DPW-Water & Waste Water 1993-08-02    $34643.00  $29709.64  "
      ]
     },
     "execution_count": 51,
     "metadata": {},
     "output_type": "execute_result"
    }
   ],
   "source": [
    "salaries.tail()"
   ]
  },
  {
   "cell_type": "markdown",
   "metadata": {},
   "source": [
    "# Data Preprocessing\n",
    "\n",
    "## Preprocess the Data (Convert Strings to Numbers)\n",
    "\n",
    "The `AnnualSalary` and `GrossPay` columns are strings and start with a `$`. We'll have to strip this off and convert these columns to floats.\n",
    "\n",
    "Don't worry too much about this code... just confirm that it works by checking that it now looks like a number without a `$` sign."
   ]
  },
  {
   "cell_type": "code",
   "execution_count": 52,
   "metadata": {},
   "outputs": [
    {
     "data": {
      "text/html": [
       "<div>\n",
       "<style scoped>\n",
       "    .dataframe tbody tr th:only-of-type {\n",
       "        vertical-align: middle;\n",
       "    }\n",
       "\n",
       "    .dataframe tbody tr th {\n",
       "        vertical-align: top;\n",
       "    }\n",
       "\n",
       "    .dataframe thead th {\n",
       "        text-align: right;\n",
       "    }\n",
       "</style>\n",
       "<table border=\"1\" class=\"dataframe\">\n",
       "  <thead>\n",
       "    <tr style=\"text-align: right;\">\n",
       "      <th></th>\n",
       "      <th>JobTitle</th>\n",
       "      <th>AgencyID</th>\n",
       "      <th>Agency</th>\n",
       "      <th>HireDate</th>\n",
       "      <th>AnnualSalary</th>\n",
       "      <th>GrossPay</th>\n",
       "    </tr>\n",
       "    <tr>\n",
       "      <th>Name</th>\n",
       "      <th></th>\n",
       "      <th></th>\n",
       "      <th></th>\n",
       "      <th></th>\n",
       "      <th></th>\n",
       "      <th></th>\n",
       "    </tr>\n",
       "  </thead>\n",
       "  <tbody>\n",
       "    <tr>\n",
       "      <th>Aaron,Patricia G</th>\n",
       "      <td>Facilities/Office Services II</td>\n",
       "      <td>A03031</td>\n",
       "      <td>OED-Employment Dev</td>\n",
       "      <td>1979-10-24</td>\n",
       "      <td>50845.0</td>\n",
       "      <td>45505.94</td>\n",
       "    </tr>\n",
       "    <tr>\n",
       "      <th>Aaron,Petra L</th>\n",
       "      <td>ASSISTANT STATE'S ATTORNEY</td>\n",
       "      <td>A29005</td>\n",
       "      <td>States Attorneys Office</td>\n",
       "      <td>2006-09-25</td>\n",
       "      <td>56595.0</td>\n",
       "      <td>51588.89</td>\n",
       "    </tr>\n",
       "    <tr>\n",
       "      <th>Abaineh,Yohannes T</th>\n",
       "      <td>EPIDEMIOLOGIST</td>\n",
       "      <td>A65026</td>\n",
       "      <td>HLTH-Health Department</td>\n",
       "      <td>2009-07-23</td>\n",
       "      <td>56500.0</td>\n",
       "      <td>50633.26</td>\n",
       "    </tr>\n",
       "    <tr>\n",
       "      <th>Abdal-Rahim,Naim A</th>\n",
       "      <td>EMT Firefighter</td>\n",
       "      <td>A64063</td>\n",
       "      <td>Fire Academy Recruits</td>\n",
       "      <td>2011-03-30</td>\n",
       "      <td>33476.0</td>\n",
       "      <td>3888.95</td>\n",
       "    </tr>\n",
       "    <tr>\n",
       "      <th>Abdi,Ezekiel W</th>\n",
       "      <td>POLICE OFFICER</td>\n",
       "      <td>A99398</td>\n",
       "      <td>Police Department</td>\n",
       "      <td>2007-06-14</td>\n",
       "      <td>50919.0</td>\n",
       "      <td>51421.73</td>\n",
       "    </tr>\n",
       "  </tbody>\n",
       "</table>\n",
       "</div>"
      ],
      "text/plain": [
       "                                         JobTitle AgencyID  \\\n",
       "Name                                                         \n",
       "Aaron,Patricia G    Facilities/Office Services II   A03031   \n",
       "Aaron,Petra L          ASSISTANT STATE'S ATTORNEY   A29005   \n",
       "Abaineh,Yohannes T                 EPIDEMIOLOGIST   A65026   \n",
       "Abdal-Rahim,Naim A                EMT Firefighter   A64063   \n",
       "Abdi,Ezekiel W                     POLICE OFFICER   A99398   \n",
       "\n",
       "                                     Agency   HireDate  AnnualSalary  GrossPay  \n",
       "Name                                                                            \n",
       "Aaron,Patricia G         OED-Employment Dev 1979-10-24       50845.0  45505.94  \n",
       "Aaron,Petra L       States Attorneys Office 2006-09-25       56595.0  51588.89  \n",
       "Abaineh,Yohannes T   HLTH-Health Department 2009-07-23       56500.0  50633.26  \n",
       "Abdal-Rahim,Naim A    Fire Academy Recruits 2011-03-30       33476.0   3888.95  \n",
       "Abdi,Ezekiel W            Police Department 2007-06-14       50919.0  51421.73  "
      ]
     },
     "execution_count": 52,
     "metadata": {},
     "output_type": "execute_result"
    }
   ],
   "source": [
    "salaries.AnnualSalary = salaries.AnnualSalary.str.strip('$').astype(float)\n",
    "salaries.GrossPay = salaries.GrossPay.str.strip('$').astype(float)\n",
    "salaries.head()"
   ]
  },
  {
   "cell_type": "markdown",
   "metadata": {},
   "source": [
    "## Perform Exploratory Data Analysis\n",
    "\n",
    "Create a scatterplot of annual salary versus gross pay."
   ]
  },
  {
   "cell_type": "code",
   "execution_count": null,
   "metadata": {},
   "outputs": [],
   "source": []
  },
  {
   "cell_type": "code",
   "execution_count": 54,
   "metadata": {},
   "outputs": [
    {
     "data": {
      "image/png": "[encoded data removed]",
      "text/plain": [
       "<Figure size 640x480 with 1 Axes>"
      ]
     },
     "metadata": {},
     "output_type": "display_data"
    }
   ],
   "source": [
    "salaries.plot.scatter(x='AnnualSalary', y='GrossPay')\n",
    "plt.show()"
   ]
  },
  {
   "cell_type": "markdown",
   "metadata": {},
   "source": [
    "# Look for a Linear Relationship\n",
    "\n",
    "It seems like there is a linear relationship in there, but it's obscured by a lot of noise.\n",
    "\n",
    "Let's get a vibe for the data, and what we should expect to see in our machine generated model.\n",
    "\n",
    "We will extract a tiny sample of it and do an approximation of the Theil-Sen algorithm by hand.\n",
    "\n",
    "Note that because we are _sampling_ the data, everyone is going to get a different subset of the data here."
   ]
  },
  {
   "cell_type": "code",
   "execution_count": 55,
   "metadata": {},
   "outputs": [
    {
     "data": {
      "text/html": [
       "<div>\n",
       "<style scoped>\n",
       "    .dataframe tbody tr th:only-of-type {\n",
       "        vertical-align: middle;\n",
       "    }\n",
       "\n",
       "    .dataframe tbody tr th {\n",
       "        vertical-align: top;\n",
       "    }\n",
       "\n",
       "    .dataframe thead th {\n",
       "        text-align: right;\n",
       "    }\n",
       "</style>\n",
       "<table border=\"1\" class=\"dataframe\">\n",
       "  <thead>\n",
       "    <tr style=\"text-align: right;\">\n",
       "      <th></th>\n",
       "      <th>JobTitle</th>\n",
       "      <th>AgencyID</th>\n",
       "      <th>Agency</th>\n",
       "      <th>HireDate</th>\n",
       "      <th>AnnualSalary</th>\n",
       "      <th>GrossPay</th>\n",
       "    </tr>\n",
       "    <tr>\n",
       "      <th>Name</th>\n",
       "      <th></th>\n",
       "      <th></th>\n",
       "      <th></th>\n",
       "      <th></th>\n",
       "      <th></th>\n",
       "      <th></th>\n",
       "    </tr>\n",
       "  </thead>\n",
       "  <tbody>\n",
       "    <tr>\n",
       "      <th>Hamilton,Alicia A</th>\n",
       "      <td>RECREATION ARTS INSTRUCTOR</td>\n",
       "      <td>A68005</td>\n",
       "      <td>R&amp;P-Parks</td>\n",
       "      <td>2007-06-14</td>\n",
       "      <td>41600.0</td>\n",
       "      <td>38619.10</td>\n",
       "    </tr>\n",
       "    <tr>\n",
       "      <th>Trikeriotis,Patricia A</th>\n",
       "      <td>Systems Analyst</td>\n",
       "      <td>A31014</td>\n",
       "      <td>Circuit Court</td>\n",
       "      <td>1989-10-10</td>\n",
       "      <td>65300.0</td>\n",
       "      <td>57263.74</td>\n",
       "    </tr>\n",
       "    <tr>\n",
       "      <th>Gaskins,Casandra Y</th>\n",
       "      <td>EMERGENCY DISPATCHER</td>\n",
       "      <td>A99371</td>\n",
       "      <td>Police Department</td>\n",
       "      <td>2007-03-29</td>\n",
       "      <td>43614.0</td>\n",
       "      <td>37108.11</td>\n",
       "    </tr>\n",
       "    <tr>\n",
       "      <th>Fisher,Vivian</th>\n",
       "      <td>LIBRARIAN SUPV II</td>\n",
       "      <td>A75087</td>\n",
       "      <td>Enoch Pratt Free Library</td>\n",
       "      <td>2000-08-21</td>\n",
       "      <td>63800.0</td>\n",
       "      <td>54168.12</td>\n",
       "    </tr>\n",
       "    <tr>\n",
       "      <th>Phillips,Albert E</th>\n",
       "      <td>CHIEF STATE'S ATTORNEY</td>\n",
       "      <td>A29006</td>\n",
       "      <td>States Attorneys Office</td>\n",
       "      <td>1982-04-12</td>\n",
       "      <td>97800.0</td>\n",
       "      <td>87267.83</td>\n",
       "    </tr>\n",
       "    <tr>\n",
       "      <th>Hamilton,Timothy J</th>\n",
       "      <td>FIRE LIEUTENANT</td>\n",
       "      <td>A64301</td>\n",
       "      <td>Fire Department</td>\n",
       "      <td>1990-03-26</td>\n",
       "      <td>68717.0</td>\n",
       "      <td>79970.90</td>\n",
       "    </tr>\n",
       "    <tr>\n",
       "      <th>Carter,Donald C</th>\n",
       "      <td>COMMUNITY AIDE</td>\n",
       "      <td>A04015</td>\n",
       "      <td>R&amp;P-Recreation</td>\n",
       "      <td>2007-08-23</td>\n",
       "      <td>17576.0</td>\n",
       "      <td>7799.26</td>\n",
       "    </tr>\n",
       "    <tr>\n",
       "      <th>Prince,Shane G</th>\n",
       "      <td>CONTRACT COOR CONVENTION</td>\n",
       "      <td>A91012</td>\n",
       "      <td>M-R Convention Center</td>\n",
       "      <td>1999-12-23</td>\n",
       "      <td>43786.0</td>\n",
       "      <td>38627.28</td>\n",
       "    </tr>\n",
       "    <tr>\n",
       "      <th>Morgan,Dynetta A</th>\n",
       "      <td>CROSSING GUARD</td>\n",
       "      <td>C90786</td>\n",
       "      <td>TRANS-Crossing Guards</td>\n",
       "      <td>2005-10-06</td>\n",
       "      <td>9553.0</td>\n",
       "      <td>9668.06</td>\n",
       "    </tr>\n",
       "    <tr>\n",
       "      <th>Gervis,Irene S</th>\n",
       "      <td>PARALEGAL</td>\n",
       "      <td>A06019</td>\n",
       "      <td>Housing &amp; Community Dev</td>\n",
       "      <td>2011-04-18</td>\n",
       "      <td>43423.0</td>\n",
       "      <td>2881.03</td>\n",
       "    </tr>\n",
       "  </tbody>\n",
       "</table>\n",
       "</div>"
      ],
      "text/plain": [
       "                                          JobTitle AgencyID  \\\n",
       "Name                                                          \n",
       "Hamilton,Alicia A       RECREATION ARTS INSTRUCTOR   A68005   \n",
       "Trikeriotis,Patricia A             Systems Analyst   A31014   \n",
       "Gaskins,Casandra Y            EMERGENCY DISPATCHER   A99371   \n",
       "Fisher,Vivian                    LIBRARIAN SUPV II   A75087   \n",
       "Phillips,Albert E           CHIEF STATE'S ATTORNEY   A29006   \n",
       "Hamilton,Timothy J                 FIRE LIEUTENANT   A64301   \n",
       "Carter,Donald C                     COMMUNITY AIDE   A04015   \n",
       "Prince,Shane G            CONTRACT COOR CONVENTION   A91012   \n",
       "Morgan,Dynetta A                    CROSSING GUARD   C90786   \n",
       "Gervis,Irene S                           PARALEGAL   A06019   \n",
       "\n",
       "                                          Agency   HireDate  AnnualSalary  \\\n",
       "Name                                                                        \n",
       "Hamilton,Alicia A                      R&P-Parks 2007-06-14       41600.0   \n",
       "Trikeriotis,Patricia A             Circuit Court 1989-10-10       65300.0   \n",
       "Gaskins,Casandra Y             Police Department 2007-03-29       43614.0   \n",
       "Fisher,Vivian           Enoch Pratt Free Library 2000-08-21       63800.0   \n",
       "Phillips,Albert E        States Attorneys Office 1982-04-12       97800.0   \n",
       "Hamilton,Timothy J               Fire Department 1990-03-26       68717.0   \n",
       "Carter,Donald C                   R&P-Recreation 2007-08-23       17576.0   \n",
       "Prince,Shane G             M-R Convention Center 1999-12-23       43786.0   \n",
       "Morgan,Dynetta A           TRANS-Crossing Guards 2005-10-06        9553.0   \n",
       "Gervis,Irene S           Housing & Community Dev 2011-04-18       43423.0   \n",
       "\n",
       "                        GrossPay  \n",
       "Name                              \n",
       "Hamilton,Alicia A       38619.10  \n",
       "Trikeriotis,Patricia A  57263.74  \n",
       "Gaskins,Casandra Y      37108.11  \n",
       "Fisher,Vivian           54168.12  \n",
       "Phillips,Albert E       87267.83  \n",
       "Hamilton,Timothy J      79970.90  \n",
       "Carter,Donald C          7799.26  \n",
       "Prince,Shane G          38627.28  \n",
       "Morgan,Dynetta A         9668.06  \n",
       "Gervis,Irene S           2881.03  "
      ]
     },
     "execution_count": 55,
     "metadata": {},
     "output_type": "execute_result"
    }
   ],
   "source": [
    "tiny_sample = salaries.sample(10)\n",
    "tiny_sample"
   ]
  },
  {
   "cell_type": "markdown",
   "metadata": {},
   "source": [
    "The next cell creates an image"
   ]
  },
  {
   "cell_type": "code",
   "execution_count": 56,
   "metadata": {},
   "outputs": [
    {
     "data": {
      "image/png": "[encoded data removed]",
      "text/plain": [
       "<Figure size 2000x1600 with 1 Axes>"
      ]
     },
     "metadata": {},
     "output_type": "display_data"
    }
   ],
   "source": [
    "fig, ax = plt.subplots(figsize=(20,16))\n",
    "tiny_sample.plot.scatter(x='AnnualSalary', y='GrossPay', ax=ax)\n",
    "for name, details in tiny_sample.iterrows():\n",
    "    ax.annotate(text=name, xy=(details.AnnualSalary,details.GrossPay), xytext=(details.AnnualSalary+5000, details.GrossPay-5000),\n",
    "                arrowprops=dict(arrowstyle=\"-\", color='black')\n",
    "               )\n",
    "\n",
    "plt.show()"
   ]
  },
  {
   "cell_type": "markdown",
   "metadata": {},
   "source": [
    "Take that image, and open it in an editing tool that has a ruler tool.\n",
    "\n",
    "**Windows** You could use *Microsoft Paint* (type \"Paint\" in the start menu) or *Snipping Tool / Snip & Sketch* (Take a screenshot with Windows + Shift + S and then annotate directly on the captured image.)\n",
    "\n",
    "**macOS** Preview or Quick Look\n",
    "\n",
    "The next cell will give you a five random pairs of people to draw a line between. Draw them, and then **save the image into your\n",
    "github classroom repo so that we know that you've done it**."
   ]
  },
  {
   "cell_type": "code",
   "execution_count": 57,
   "metadata": {},
   "outputs": [
    {
     "name": "stdout",
     "output_type": "stream",
     "text": [
      "\n",
      "Draw a line that goes through Trikeriotis,Patricia A and Carter,Donald C. \n",
      "\n",
      "This should go through (65300.0,57263.74) and (17576.0,7799.26)\n",
      "\n",
      "It has a gradient (slope) of 1.0364697007794819\n",
      "\n",
      "-----------------------------\n",
      "\n",
      "\n",
      "Draw a line that goes through Hamilton,Timothy J and Carter,Donald C. \n",
      "\n",
      "This should go through (68717.0,79970.9) and (17576.0,7799.26)\n",
      "\n",
      "It has a gradient (slope) of 1.4112285641657378\n",
      "\n",
      "-----------------------------\n",
      "\n",
      "\n",
      "Draw a line that goes through Phillips,Albert E and Hamilton,Timothy J. \n",
      "\n",
      "This should go through (97800.0,87267.83) and (68717.0,79970.9)\n",
      "\n",
      "It has a gradient (slope) of 0.25090018223704597\n",
      "\n",
      "-----------------------------\n",
      "\n",
      "\n",
      "Draw a line that goes through Hamilton,Alicia A and Hamilton,Timothy J. \n",
      "\n",
      "This should go through (41600.0,38619.1) and (68717.0,79970.9)\n",
      "\n",
      "It has a gradient (slope) of 1.5249400744920159\n",
      "\n",
      "-----------------------------\n",
      "\n",
      "\n",
      "Draw a line that goes through Hamilton,Timothy J and Morgan,Dynetta A. \n",
      "\n",
      "This should go through (68717.0,79970.9) and (9553.0,9668.06)\n",
      "\n",
      "It has a gradient (slope) of 1.1882705699411804\n",
      "\n",
      "-----------------------------\n",
      "\n"
     ]
    }
   ],
   "source": [
    "for i in range(5):\n",
    "    pair = tiny_sample.sample(2)\n",
    "    first_name = pair.index[0]\n",
    "    second_name = pair.index[1]\n",
    "    print(f\"\"\"\n",
    "Draw a line that goes through {first_name} and {second_name}. \n",
    "\n",
    "This should go through ({pair.AnnualSalary.iloc[0]},{pair.GrossPay.iloc[0]}) and ({pair.AnnualSalary.iloc[1]},{pair.GrossPay.iloc[1]})\n",
    "\n",
    "It has a gradient (slope) of {(pair.GrossPay.iloc[1]-pair.GrossPay.iloc[0])/(pair.AnnualSalary.iloc[1]-pair.AnnualSalary.iloc[0])}\n",
    "\n",
    "-----------------------------\n",
    "\"\"\")\n"
   ]
  },
  {
   "cell_type": "markdown",
   "metadata": {},
   "source": [
    "### Get an estimate\n",
    "\n",
    "Which was the \"middle\" slope line on your diagram? i.e. what was the median gradient? \n",
    "\n",
    "(Write it in the next cell so that we know you did it. Note that it's unlikely that two students will get the same answer.)"
   ]
  },
  {
   "cell_type": "markdown",
   "metadata": {},
   "source": [
    "_Answer:_ The middle point is: 1.188"
   ]
  },
  {
   "cell_type": "markdown",
   "metadata": {},
   "source": [
    "### A moment of reflection\n",
    "\n",
    "Does that mean that Baltimore employees typically get more pay than their salary, or less than their salary?\n",
    "\n",
    "(Write it in the next cell so that we know you did it. You might or might not have the same answer as your neighbour, but generally you will.)"
   ]
  },
  {
   "cell_type": "markdown",
   "metadata": {},
   "source": [
    "_Answer:_ Baltimore employees get more salary."
   ]
  },
  {
   "cell_type": "markdown",
   "metadata": {},
   "source": [
    "# Data Splitting\n",
    "\n",
    "We need to have train, validation and test data. (We actually should have done that before we did our manual Theil-Sen algorithm.)"
   ]
  },
  {
   "cell_type": "code",
   "execution_count": 58,
   "metadata": {},
   "outputs": [],
   "source": [
    "training_data, holdout_data = sklearn.model_selection.train_test_split(salaries, test_size=0.2)\n",
    "validation_data, test_data = sklearn.model_selection.train_test_split(holdout_data, test_size=0.5)"
   ]
  },
  {
   "cell_type": "code",
   "execution_count": 59,
   "metadata": {},
   "outputs": [
    {
     "data": {
      "text/plain": [
       "((11563, 6), (1445, 6), (1446, 6))"
      ]
     },
     "execution_count": 59,
     "metadata": {},
     "output_type": "execute_result"
    }
   ],
   "source": [
    "training_data.shape, validation_data.shape, test_data.shape"
   ]
  },
  {
   "cell_type": "markdown",
   "metadata": {},
   "source": [
    "# Scikit Learn Regression\n",
    "\n",
    "We'll follow the pattern we followed in the code from lectures:\n",
    "\n",
    "- Construct a Regressor object\n",
    "\n",
    "- `.fit()` it\n",
    "\n",
    "- Use it to `.predict()` the validation data\n",
    "\n",
    "- Look at the coefficients of the model (in this case, the gradient)."
   ]
  },
  {
   "cell_type": "markdown",
   "metadata": {},
   "source": [
    "### Theil-Sen\n",
    "\n",
    "You just did a Theil-Sen regression by hand, and we saw one in class. Let's see how close your five-sample version was to a more complete computation."
   ]
  },
  {
   "cell_type": "code",
   "execution_count": 13,
   "metadata": {},
   "outputs": [
    {
     "data": {
      "text/plain": [
       "array([1.03435632])"
      ]
     },
     "execution_count": 13,
     "metadata": {},
     "output_type": "execute_result"
    }
   ],
   "source": [
    "ts = sklearn.linear_model.TheilSenRegressor()\n",
    "ts.fit(training_data[['AnnualSalary']], training_data['GrossPay'])\n",
    "ts_predictions = ts.predict(validation_data[['AnnualSalary']])\n",
    "ts.coef_"
   ]
  },
  {
   "cell_type": "markdown",
   "metadata": {},
   "source": [
    "### RANSAC\n",
    "\n",
    "Let's use a RANSAC regressor. This was demonstrated in class. (Getting the coefficients for a RANSAC model is a little unusual: you ask for the best estimator, and then you ask for the coefficients of that best estimator."
   ]
  },
  {
   "cell_type": "code",
   "execution_count": 60,
   "metadata": {},
   "outputs": [
    {
     "data": {
      "text/plain": [
       "array([1.03221799])"
      ]
     },
     "execution_count": 60,
     "metadata": {},
     "output_type": "execute_result"
    }
   ],
   "source": [
    "ransac = sklearn.linear_model.RANSACRegressor()\n",
    "ransac.fit(training_data[['AnnualSalary']], training_data['GrossPay'])\n",
    "ransac_predictions = ransac.predict(validation_data[['AnnualSalary']])\n",
    "ransac.estimator_.coef_"
   ]
  },
  {
   "cell_type": "markdown",
   "metadata": {},
   "source": [
    "### Huber\n",
    "\n",
    "One of the best and most robust regressors is the Huber model. Finish off this code."
   ]
  },
  {
   "cell_type": "code",
   "execution_count": 62,
   "metadata": {},
   "outputs": [],
   "source": [
    "huber = sklearn.linear_model.HuberRegressor()\n",
    "huber.fit(training_data[['AnnualSalary']], training_data['GrossPay'])\n",
    "huber_predictions = huber.predict(validation_data[['AnnualSalary']])\n"
   ]
  },
  {
   "cell_type": "markdown",
   "metadata": {},
   "source": [
    "### Ordinary Least Squares\n",
    "\n",
    "If you have done STAT1170 you might have encountered this choice for finding a line of best fit through some points.\n",
    "\n",
    "It is very common and popular, so the scikit learn class is called `LinearRegression()`\n",
    "\n",
    "Finish off this code:"
   ]
  },
  {
   "cell_type": "code",
   "execution_count": 64,
   "metadata": {},
   "outputs": [
    {
     "data": {
      "text/plain": [
       "array([1.01515917])"
      ]
     },
     "execution_count": 64,
     "metadata": {},
     "output_type": "execute_result"
    }
   ],
   "source": [
    "ols = sklearn.linear_model.LinearRegression()\n",
    "ols.fit(training_data[['AnnualSalary']], training_data['GrossPay'])\n",
    "ols_predictions = ols.predict(validation_data[['AnnualSalary']])\n",
    "ols.coef_\n"
   ]
  },
  {
   "cell_type": "markdown",
   "metadata": {},
   "source": [
    "# Evaluating these models\n",
    "\n",
    "How wrong were the predictions? We can subtract the prediction from the correct answer to look."
   ]
  },
  {
   "cell_type": "code",
   "execution_count": 65,
   "metadata": {},
   "outputs": [
    {
     "data": {
      "text/plain": [
       "Name\n",
       "Oyegoke,Folayemi O    -21495.791374\n",
       "Maher Sr,John P        25038.285576\n",
       "Tracy Jr,Joseph L       8558.716455\n",
       "Curtis Jr,Oscar N     -24861.256588\n",
       "Moore,William E       -35619.343509\n",
       "                           ...     \n",
       "McKinney,Glenda D      -1186.243407\n",
       "Daniels Jr,Samuel T    34319.328534\n",
       "Bongiorno,Michael      33536.944898\n",
       "Anderson,Willie O      23137.334898\n",
       "Johnson,William         -422.656975\n",
       "Name: GrossPay, Length: 1445, dtype: float64"
      ]
     },
     "execution_count": 65,
     "metadata": {},
     "output_type": "execute_result"
    }
   ],
   "source": [
    "validation_data.GrossPay - ts_predictions"
   ]
  },
  {
   "cell_type": "code",
   "execution_count": 66,
   "metadata": {},
   "outputs": [
    {
     "data": {
      "text/plain": [
       "Name\n",
       "Oyegoke,Folayemi O      -70.248918\n",
       "Maher Sr,John P        2241.456880\n",
       "Tracy Jr,Joseph L     -4108.555808\n",
       "Curtis Jr,Oscar N      1347.770655\n",
       "Moore,William E         398.856729\n",
       "                          ...     \n",
       "McKinney,Glenda D      -686.255397\n",
       "Daniels Jr,Samuel T   -7562.989945\n",
       "Bongiorno,Michael     -3075.252866\n",
       "Anderson,Willie O      2484.259414\n",
       "Johnson,William        2138.020292\n",
       "Name: GrossPay, Length: 1445, dtype: float64"
      ]
     },
     "execution_count": 66,
     "metadata": {},
     "output_type": "execute_result"
    }
   ],
   "source": [
    "validation_data.GrossPay - ransac_predictions"
   ]
  },
  {
   "cell_type": "markdown",
   "metadata": {},
   "source": [
    "Now look at the data for your Huber regressor and your Ordinary Least Squares regressor. (Put the calculations into the next two cells.)"
   ]
  },
  {
   "cell_type": "code",
   "execution_count": null,
   "metadata": {},
   "outputs": [],
   "source": []
  },
  {
   "cell_type": "code",
   "execution_count": null,
   "metadata": {},
   "outputs": [],
   "source": [
    "validation_data.Gross"
   ]
  },
  {
   "cell_type": "markdown",
   "metadata": {},
   "source": [
    "## Summarising how wrong they were\n",
    "\n",
    "Ideally, we'd like a number that says which one was the best. But choosing which way we calculate that number is a decision\n",
    "that reflects what we think is important. These are questions we might ask:\n",
    "\n",
    "- What's the most inaccurate prediction?\n",
    "\n",
    "- 99% of the time, the correct answer was within ____ of what we predicted?\n",
    "\n",
    "- On average, how far away from the right answer were we?\n"
   ]
  },
  {
   "cell_type": "markdown",
   "metadata": {},
   "source": [
    "Here's how to get the most inaccurate prediction for the Theil-Sen regressor. (The maximum of the absolute values of the error in our prediction.). In the following cells, do RANSAC, Huber and Ordinary Least Squares"
   ]
  },
  {
   "cell_type": "code",
   "execution_count": 16,
   "metadata": {},
   "outputs": [
    {
     "data": {
      "text/plain": [
       "155146.19394663328"
      ]
     },
     "execution_count": 16,
     "metadata": {},
     "output_type": "execute_result"
    }
   ],
   "source": [
    "(validation_data.GrossPay - ts_predictions).abs().max()"
   ]
  },
  {
   "cell_type": "code",
   "execution_count": 67,
   "metadata": {},
   "outputs": [
    {
     "data": {
      "text/plain": [
       "83234.68476311862"
      ]
     },
     "execution_count": 67,
     "metadata": {},
     "output_type": "execute_result"
    }
   ],
   "source": [
    "(validation_data.GrossPay - huber_predictions).abs().max()"
   ]
  },
  {
   "cell_type": "code",
   "execution_count": 68,
   "metadata": {},
   "outputs": [
    {
     "data": {
      "text/plain": [
       "92524.33324954248"
      ]
     },
     "execution_count": 68,
     "metadata": {},
     "output_type": "execute_result"
    }
   ],
   "source": [
    "(validation_data.GrossPay - ols_predictions).abs().max()"
   ]
  },
  {
   "cell_type": "markdown",
   "metadata": {},
   "source": [
    "(If you are ahead of the rest of the prac group and are waiting around idle, you could use `idxmax()` instead of `max()` to find out _which_ employee was most badly mis-predicted.)\n",
    "\n",
    "------"
   ]
  },
  {
   "cell_type": "markdown",
   "metadata": {},
   "source": [
    "99% of the predictions were wrong by less than this amount.... (fill in RANSAC, Huber and Ordinary Least Squares)"
   ]
  },
  {
   "cell_type": "code",
   "execution_count": 17,
   "metadata": {},
   "outputs": [
    {
     "data": {
      "text/plain": [
       "41378.90112852388"
      ]
     },
     "execution_count": 17,
     "metadata": {},
     "output_type": "execute_result"
    }
   ],
   "source": [
    "(validation_data.GrossPay - ts_predictions).abs().quantile(0.99)"
   ]
  },
  {
   "cell_type": "code",
   "execution_count": 69,
   "metadata": {},
   "outputs": [
    {
     "data": {
      "text/plain": [
       "43229.86138271335"
      ]
     },
     "execution_count": 69,
     "metadata": {},
     "output_type": "execute_result"
    }
   ],
   "source": [
    "(validation_data.GrossPay - ransac_predictions).abs().quantile(0.99)"
   ]
  },
  {
   "cell_type": "code",
   "execution_count": 70,
   "metadata": {},
   "outputs": [
    {
     "data": {
      "text/plain": [
       "41961.42957143369"
      ]
     },
     "execution_count": 70,
     "metadata": {},
     "output_type": "execute_result"
    }
   ],
   "source": [
    "(validation_data.GrossPay - huber_predictions).abs().quantile(0.99)"
   ]
  },
  {
   "cell_type": "code",
   "execution_count": 71,
   "metadata": {},
   "outputs": [
    {
     "data": {
      "text/plain": [
       "43467.64723558329"
      ]
     },
     "execution_count": 71,
     "metadata": {},
     "output_type": "execute_result"
    }
   ],
   "source": [
    "(validation_data.GrossPay - ols_predictions).abs().quantile(0.99)"
   ]
  },
  {
   "cell_type": "markdown",
   "metadata": {},
   "source": [
    "Here's how we could get the mean absolute error (how far we are away from the right answer on average). sklearn has many built-in functions for doing these sorts of calculations. (Fill in RANSAC, Huber and Ordinary Least Squares)."
   ]
  },
  {
   "cell_type": "code",
   "execution_count": 18,
   "metadata": {},
   "outputs": [
    {
     "data": {
      "text/plain": [
       "6388.22750606352"
      ]
     },
     "execution_count": 18,
     "metadata": {},
     "output_type": "execute_result"
    }
   ],
   "source": [
    "sklearn.metrics.mean_absolute_error(validation_data.GrossPay, ts_predictions)"
   ]
  },
  {
   "cell_type": "code",
   "execution_count": 72,
   "metadata": {},
   "outputs": [
    {
     "data": {
      "text/plain": [
       "6043.099585256976"
      ]
     },
     "execution_count": 72,
     "metadata": {},
     "output_type": "execute_result"
    }
   ],
   "source": [
    "sklearn.metrics.mean_absolute_error(validation_data.GrossPay, ransac_predictions)"
   ]
  },
  {
   "cell_type": "code",
   "execution_count": 73,
   "metadata": {},
   "outputs": [
    {
     "data": {
      "text/plain": [
       "6041.886765344041"
      ]
     },
     "execution_count": 73,
     "metadata": {},
     "output_type": "execute_result"
    }
   ],
   "source": [
    "sklearn.metrics.mean_absolute_error(validation_data.GrossPay, huber_predictions)"
   ]
  },
  {
   "cell_type": "code",
   "execution_count": 74,
   "metadata": {},
   "outputs": [
    {
     "data": {
      "text/plain": [
       "6035.865611728917"
      ]
     },
     "execution_count": 74,
     "metadata": {},
     "output_type": "execute_result"
    }
   ],
   "source": [
    "sklearn.metrics.mean_absolute_error(validation_data.GrossPay, ols_predictions)"
   ]
  },
  {
   "cell_type": "markdown",
   "metadata": {},
   "source": [
    "A very common measure (which you might have encountered in STAT1170 if you've done it) is the $R^2$ measure:"
   ]
  },
  {
   "cell_type": "code",
   "execution_count": 19,
   "metadata": {},
   "outputs": [
    {
     "data": {
      "text/plain": [
       "0.7588919212985801"
      ]
     },
     "execution_count": 19,
     "metadata": {},
     "output_type": "execute_result"
    }
   ],
   "source": [
    "sklearn.metrics.r2_score(validation_data.GrossPay, ts_predictions)"
   ]
  },
  {
   "cell_type": "code",
   "execution_count": 75,
   "metadata": {},
   "outputs": [
    {
     "data": {
      "text/plain": [
       "0.7900588278807399"
      ]
     },
     "execution_count": 75,
     "metadata": {},
     "output_type": "execute_result"
    }
   ],
   "source": [
    "sklearn.metrics.r2_score(validation_data.GrossPay, ransac_predictions)"
   ]
  },
  {
   "cell_type": "code",
   "execution_count": 76,
   "metadata": {},
   "outputs": [
    {
     "data": {
      "text/plain": [
       "0.7798235754462673"
      ]
     },
     "execution_count": 76,
     "metadata": {},
     "output_type": "execute_result"
    }
   ],
   "source": [
    "sklearn.metrics.r2_score(validation_data.GrossPay, huber_predictions)"
   ]
  },
  {
   "cell_type": "code",
   "execution_count": 77,
   "metadata": {},
   "outputs": [
    {
     "data": {
      "text/plain": [
       "0.7902001391256352"
      ]
     },
     "execution_count": 77,
     "metadata": {},
     "output_type": "execute_result"
    }
   ],
   "source": [
    "sklearn.metrics.r2_score(validation_data.GrossPay, ols_predictions)"
   ]
  },
  {
   "cell_type": "markdown",
   "metadata": {},
   "source": [
    "## Time to choose!\n",
    "\n",
    "On the basis of the information you chose above, which regressor are you going to choose to use?\n",
    "\n",
    "Say which model you think is best, and the basis you chose for using it. (While there are some obviously wrong answers you can give here, there are many options for the \"right\" answer depending on your criteria for best.)"
   ]
  },
  {
   "cell_type": "markdown",
   "metadata": {},
   "source": [
    "_Answer_: Theil_sen"
   ]
  },
  {
   "cell_type": "markdown",
   "metadata": {},
   "source": [
    "### Evaluating it\n",
    "\n",
    "You don't want to run `.fit()` again, but you do want to run `.predict()` again, using the model that you chose in the last section,\n",
    "but this time using the test data. Call the variable that stores those predictions `test_predictions`."
   ]
  },
  {
   "cell_type": "code",
   "execution_count": 85,
   "metadata": {},
   "outputs": [],
   "source": [
    "test_predictions = huber.predict(test_data[['AnnualSalary']])"
   ]
  },
  {
   "cell_type": "markdown",
   "metadata": {},
   "source": [
    "Using the measure that you thought was the most important --- the reason you chose that model over the others --- evaluate how good your chosen model is.\n",
    "\n",
    "i.e. if you thought $R^2$ score was the most important, you would copy that same metric calculation here, comparing `test_data.GrossPay` to `test_predictions`."
   ]
  },
  {
   "cell_type": "code",
   "execution_count": 87,
   "metadata": {},
   "outputs": [
    {
     "data": {
      "text/plain": [
       "116418702.76926237"
      ]
     },
     "execution_count": 87,
     "metadata": {},
     "output_type": "execute_result"
    }
   ],
   "source": [
    "sklearn.metrics.mean_squared_error(test_data.GrossPay,test_predictions)"
   ]
  },
  {
   "cell_type": "code",
   "execution_count": null,
   "metadata": {},
   "outputs": [],
   "source": [
    "sklearn.metrics.r2_score(test_data.GrossPay,test_predictions)"
   ]
  },
  {
   "cell_type": "markdown",
   "metadata": {},
   "source": [
    "# A completely different analysis\n",
    "\n",
    "Now imagine that you are the City of Baltimore's hiring manager. New employees regularly ask how much they are actually likely to earn given the salary to which they are about to agree.\n",
    "\n",
    "You don't want to give an answer that is too high because you might be putting the city at risk for a lawsuit for misrepresenting the job. On the other hand, you don't want to give an answer that's too low because the candidate might pass up on the job and work elsewhere.\n",
    "\n",
    "You decide that it will cost \\\\$0.05 in lawsuit risk for each dollar you overrepresent, but only \\\\$0.01 for each dollar you underrepresent.\n",
    "\n",
    "E.g., if a candidate is actually likely to earn \\\\$100,000 and you say \\\\$120,000, this is worth \\\\$10,000 in potential lawsuits for misrepresentation. If you say \\\\$80,000, then that will cost you \\$200 in potential recruiters' fees to find someone else.\n",
    "\n",
    "Here's a function that will calculate the cost of these predictions. Don't worry if it is too complicated for you to create\n",
    "by yourself right now, but see if you can make sense of how it works"
   ]
  },
  {
   "cell_type": "code",
   "execution_count": null,
   "metadata": {},
   "outputs": [],
   "source": []
  },
  {
   "cell_type": "code",
   "execution_count": 20,
   "metadata": {},
   "outputs": [],
   "source": [
    "def cost(actuals, predictions):\n",
    "    cost = 0.0\n",
    "    for actual,prediction in zip(actuals, predictions):\n",
    "        if prediction > actual:\n",
    "            cost += 0.05 * (prediction - actual)\n",
    "        elif prediction < actual:\n",
    "            cost += 0.01 * (actual - prediction)\n",
    "        else:\n",
    "            cost += 0.0\n",
    "    return cost"
   ]
  },
  {
   "cell_type": "markdown",
   "metadata": {},
   "source": [
    "Here's how you would use it for the Theil-Sen predictions. Use it to calculate the cost of the RANSAC, Huber and Ordinary Least Squares Regressors."
   ]
  },
  {
   "cell_type": "code",
   "execution_count": 21,
   "metadata": {},
   "outputs": [
    {
     "data": {
      "text/plain": [
       "313703.3549658584"
      ]
     },
     "execution_count": 21,
     "metadata": {},
     "output_type": "execute_result"
    }
   ],
   "source": [
    "cost(validation_data['GrossPay'], ts_predictions)"
   ]
  },
  {
   "cell_type": "code",
   "execution_count": 81,
   "metadata": {},
   "outputs": [
    {
     "data": {
      "text/plain": [
       "273258.6797205919"
      ]
     },
     "execution_count": 81,
     "metadata": {},
     "output_type": "execute_result"
    }
   ],
   "source": [
    "cost(validation_data['GrossPay'], ransac_predictions)"
   ]
  },
  {
   "cell_type": "code",
   "execution_count": 82,
   "metadata": {},
   "outputs": [
    {
     "data": {
      "text/plain": [
       "247156.02803036358"
      ]
     },
     "execution_count": 82,
     "metadata": {},
     "output_type": "execute_result"
    }
   ],
   "source": [
    "cost(validation_data['GrossPay'], huber_predictions)"
   ]
  },
  {
   "cell_type": "code",
   "execution_count": 83,
   "metadata": {},
   "outputs": [
    {
     "data": {
      "text/plain": [
       "255844.6747509957"
      ]
     },
     "execution_count": 83,
     "metadata": {},
     "output_type": "execute_result"
    }
   ],
   "source": [
    "cost(validation_data['GrossPay'], ols_predictions)"
   ]
  },
  {
   "cell_type": "markdown",
   "metadata": {},
   "source": [
    "Based on this, which of the models we created today model would be the best one to use for answering new employees' questions?"
   ]
  },
  {
   "cell_type": "markdown",
   "metadata": {},
   "source": [
    "_Answer:_ The selected model is huber model"
   ]
  },
  {
   "cell_type": "markdown",
   "metadata": {},
   "source": [
    "# Very much optional, super-hard question\n",
    "\n",
    "If you are already familiar with Python programming, calculus or other data science concepts, try to find the optimal coefficients of a linear regression model which would minimise the hiring manager's regret."
   ]
  },
  {
   "cell_type": "code",
   "execution_count": null,
   "metadata": {},
   "outputs": [],
   "source": []
  },
  {
   "cell_type": "code",
   "execution_count": null,
   "metadata": {},
   "outputs": [],
   "source": []
  },
  {
   "cell_type": "code",
   "execution_count": null,
   "metadata": {},
   "outputs": [],
   "source": []
  },
  {
   "cell_type": "code",
   "execution_count": null,
   "metadata": {},
   "outputs": [],
   "source": []
  },
  {
   "cell_type": "code",
   "execution_count": null,
   "metadata": {},
   "outputs": [],
   "source": []
  },
  {
   "cell_type": "code",
   "execution_count": null,
   "metadata": {},
   "outputs": [],
   "source": []
  },
  {
   "cell_type": "code",
   "execution_count": null,
   "metadata": {},
   "outputs": [],
   "source": []
  }
 ],
 "metadata": {
  "kernelspec": {
   "display_name": "Python 3 (ipykernel)",
   "language": "python",
   "name": "python3"
  },
  "language_info": {
   "codemirror_mode": {
    "name": "ipython",
    "version": 3
   },
   "file_extension": ".py",
   "mimetype": "text/x-python",
   "name": "python",
   "nbconvert_exporter": "python",
   "pygments_lexer": "ipython3",
   "version": "3.12.7"
  }
 },
 "nbformat": 4,
 "nbformat_minor": 4
}
